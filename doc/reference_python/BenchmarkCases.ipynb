{
 "cells": [
  {
   "cell_type": "markdown",
   "metadata": {},
   "source": [
    "```\n",
    "This notebook setus up and runs three benchmarks from \n",
    "\"Documentation of simple ocean models for use in ensemble \n",
    "predictions. Part II: Benchmark cases\", Lars Petter Røed, Met.no \n",
    "report 5/2012.\n",
    "\n",
    "Copyright (C) 2016  SINTEF ICT\n",
    "\n",
    "This program is free software: you can redistribute it and/or modify\n",
    "it under the terms of the GNU General Public License as published by\n",
    "the Free Software Foundation, either version 3 of the License, or\n",
    "(at your option) any later version.\n",
    "\n",
    "This program is distributed in the hope that it will be useful,\n",
    "but WITHOUT ANY WARRANTY; without even the implied warranty of\n",
    "MERCHANTABILITY or FITNESS FOR A PARTICULAR PURPOSE.  See the\n",
    "GNU General Public License for more details.\n",
    "\n",
    "You should have received a copy of the GNU General Public License\n",
    "along with this program.  If not, see <http://www.gnu.org/licenses/>.\n",
    "```"
   ]
  },
  {
   "cell_type": "code",
   "execution_count": 1,
   "metadata": {
    "collapsed": false
   },
   "outputs": [],
   "source": [
    "#Lets have matplotlib \"inline\"\n",
    "%matplotlib inline\n",
    "%config InlineBackend.figure_format = 'retina'\n",
    "\n",
    "#Import packages we need\n",
    "import time\n",
    "import numpy as np\n",
    "from netCDF4 import Dataset\n",
    "from matplotlib import animation, rc\n",
    "from matplotlib import pyplot as plt\n",
    "import numpy as np\n",
    "\n",
    "#Finally, import our simulator\n",
    "from SWESimulators import FBL, CTCS, DataOutput\n",
    "\n",
    "#Set large figure sizes\n",
    "rc('figure', figsize=(16.0, 12.0))\n",
    "rc('animation', html='html5')"
   ]
  },
  {
   "cell_type": "code",
   "execution_count": 2,
   "metadata": {
    "collapsed": false,
    "scrolled": false
   },
   "outputs": [
    {
     "name": "stdout",
     "output_type": "stream",
     "text": [
      "Using  GeForce 840M\n",
      "Closing 'ctcs_1a.nc'\n",
      "Done simulating!\n"
     ]
    }
   ],
   "source": [
    "#Set up simulation parameters for case 1A (uniform along shore wind stress)\n",
    "nx = 50\n",
    "ny = 25\n",
    "\n",
    "dx = 20000\n",
    "dy = 20000\n",
    "\n",
    "nt =2500\n",
    "dt = 90.0\n",
    "g = 9.81\n",
    "f = 0.00012\n",
    "r = 0.0024\n",
    "A = 0.001\n",
    "wind_type = 0\n",
    "wind_tau0 = 0.1\n",
    "wind_rho = 1025.0\n",
    "wind_alpha = 0.000005\n",
    "\n",
    "h0 = np.ones((ny+2, nx+2), dtype=np.float32, order='C') * 50.0;\n",
    "eta0 = np.zeros((ny+2, nx+2), dtype=np.float32, order='C');\n",
    "u0 = np.zeros((ny+2, nx+1), dtype=np.float32, order='C');\n",
    "v0 = np.zeros((ny+1, nx+2), dtype=np.float32, order='C');\n",
    "\n",
    "\n",
    "#Initialize simulator\n",
    "sim = CTCS.CTCS(h0, eta0, u0, v0, \\\n",
    "                nx, ny, \\\n",
    "                dx, dy, dt, \\\n",
    "                g, f, r, A, \\\n",
    "                wind_type, \\\n",
    "                wind_tau0, wind_rho, wind_alpha)\n",
    "\n",
    "\n",
    "\n",
    "\n",
    "#Run a simulation, dumping to NetCDF\n",
    "with DataOutput.CTCSNetCDFWriter(\"ctcs_1a.nc\", nx, ny, dx, dy) as out_netcdf:\n",
    "    for i in range(96):\n",
    "        t = sim.step(3600.0)\n",
    "        eta1, u1, v1 = sim.download()\n",
    "\n",
    "        #Write to ncfile\n",
    "        out_netcdf.write(i, t, eta1, u1, v1)\n",
    "\n",
    "\n",
    "\n",
    "print \"Done simulating!\""
   ]
  },
  {
   "cell_type": "code",
   "execution_count": 3,
   "metadata": {
    "collapsed": false
   },
   "outputs": [
    {
     "name": "stdout",
     "output_type": "stream",
     "text": [
      "Using  GeForce 840M\n",
      "Closing 'ctcs_2a.nc'\n",
      "Done simulating!\n"
     ]
    }
   ],
   "source": [
    "#Set up simulation parameters for case 2A (bell shaped wind stress)\n",
    "nx = 50\n",
    "ny = 25\n",
    "\n",
    "dx = 20000\n",
    "dy = 20000\n",
    "\n",
    "nt =2500\n",
    "dt = 90.0\n",
    "g = 9.81\n",
    "f = 0.00012\n",
    "r = 0.0024\n",
    "A = 0.001\n",
    "wind_type = 1\n",
    "wind_tau0 = 0.1\n",
    "wind_rho = 1025.0\n",
    "wind_alpha = 0.000005\n",
    "wind_xm = dx*(0.5 + nx/2)\n",
    "\n",
    "h0 = np.ones((ny+2, nx+2), dtype=np.float32, order='C') * 50.0;\n",
    "eta0 = np.zeros((ny+2, nx+2), dtype=np.float32, order='C');\n",
    "u0 = np.zeros((ny+2, nx+1), dtype=np.float32, order='C');\n",
    "v0 = np.zeros((ny+1, nx+2), dtype=np.float32, order='C');\n",
    "\n",
    "\n",
    "#Initialize simulator\n",
    "sim = CTCS.CTCS(h0, eta0, u0, v0, \\\n",
    "                nx, ny, \\\n",
    "                dx, dy, dt, \\\n",
    "                g, f, r, A, \\\n",
    "                wind_type, \\\n",
    "                wind_tau0, wind_rho, wind_alpha, wind_xm)\n",
    "\n",
    "\n",
    "\n",
    "\n",
    "#Run a simulation, dumping to NetCDF\n",
    "with DataOutput.CTCSNetCDFWriter(\"ctcs_2a.nc\", nx, ny, dx, dy) as out_netcdf:\n",
    "    for i in range(96):\n",
    "        t = sim.step(3600.0)\n",
    "        eta1, u1, v1 = sim.download()\n",
    "\n",
    "        #Write to ncfile\n",
    "        out_netcdf.write(i, t, eta1, u1, v1)\n",
    "\n",
    "\n",
    "\n",
    "print \"Done simulating!\""
   ]
  },
  {
   "cell_type": "code",
   "execution_count": 4,
   "metadata": {
    "collapsed": false
   },
   "outputs": [
    {
     "name": "stdout",
     "output_type": "stream",
     "text": [
      "Using  GeForce 840M\n",
      "Closing 'ctcs_3a.nc'\n",
      "Done simulating!\n"
     ]
    }
   ],
   "source": [
    "#Set up simulation parameters for case 3A (Moving cyclone)\n",
    "nx = 50\n",
    "ny = 25\n",
    "\n",
    "dx = 20000\n",
    "dy = 20000\n",
    "\n",
    "nt =2500\n",
    "dt = 90.0\n",
    "g = 9.81\n",
    "f = 0.00012\n",
    "r = 0.0024\n",
    "A = 0.001\n",
    "wind_type = 2\n",
    "wind_tau0 = 3.0\n",
    "wind_rho = 1025.0\n",
    "wind_alpha = 0.000005\n",
    "wind_xm = dx*(0.5 + nx/2)\n",
    "wind_Rc = 200000.0\n",
    "wind_u0 = 30.0/np.sqrt(5.0)\n",
    "wind_v0 = -0.5*wind_u0\n",
    "wind_x0 = dx*(nx/2) - wind_u0*3600.0*48.0\n",
    "wind_y0 = dy*(ny/2) - wind_v0*3600.0*48.0\n",
    "\n",
    "h0 = np.ones((ny+2, nx+2), dtype=np.float32, order='C') * 50.0;\n",
    "eta0 = np.zeros((ny+2, nx+2), dtype=np.float32, order='C');\n",
    "u0 = np.zeros((ny+2, nx+1), dtype=np.float32, order='C');\n",
    "v0 = np.zeros((ny+1, nx+2), dtype=np.float32, order='C');\n",
    "\n",
    "\n",
    "#Initialize simulator\n",
    "sim = CTCS.CTCS(h0, eta0, u0, v0, \\\n",
    "                nx, ny, \\\n",
    "                dx, dy, dt, \\\n",
    "                g, f, r, A, \\\n",
    "                wind_type, \\\n",
    "                wind_tau0, wind_rho, wind_alpha, wind_xm, wind_Rc, \\\n",
    "                wind_x0, wind_y0, \\\n",
    "                wind_u0, wind_v0)\n",
    "\n",
    "\n",
    "\n",
    "\n",
    "#Run a simulation, dumping to NetCDF\n",
    "with DataOutput.CTCSNetCDFWriter(\"ctcs_3a.nc\", nx, ny, dx, dy) as out_netcdf:\n",
    "    for i in range(96):\n",
    "        t = sim.step(3600.0)\n",
    "        eta1, u1, v1 = sim.download()\n",
    "\n",
    "        #Write to ncfile\n",
    "        out_netcdf.write(i, t, eta1, u1, v1)\n",
    "\n",
    "\n",
    "\n",
    "print \"Done simulating!\""
   ]
  },
  {
   "cell_type": "code",
   "execution_count": null,
   "metadata": {
    "collapsed": true
   },
   "outputs": [],
   "source": []
  }
 ],
 "metadata": {
  "kernelspec": {
   "display_name": "Python 2",
   "language": "python",
   "name": "python2"
  },
  "language_info": {
   "codemirror_mode": {
    "name": "ipython",
    "version": 2
   },
   "file_extension": ".py",
   "mimetype": "text/x-python",
   "name": "python",
   "nbconvert_exporter": "python",
   "pygments_lexer": "ipython2",
   "version": "2.7.6"
  }
 },
 "nbformat": 4,
 "nbformat_minor": 0
}
